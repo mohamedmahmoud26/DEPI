{
 "cells": [
  {
   "cell_type": "code",
   "execution_count": 1,
   "id": "5dce82d4-e454-49c6-8be4-dbc3ec061945",
   "metadata": {},
   "outputs": [],
   "source": [
    "# Initialize an empty list to store numbers\n",
    "temperatures = [23, 25, 20, 23, -5, 21, 18, 19, 24, 21,19, 24, 0, \n",
    "                20, 24, 55, 22, 50, 22, 20, 21, 22, 20, 25, 19, \n",
    "                22, 26, 23, 21, 23, 17, 20, 18]"
   ]
  },
  {
   "cell_type": "markdown",
   "id": "43f58aa3-5506-454f-8893-087788273975",
   "metadata": {},
   "source": [
    "# --- Mean Calculation ---\n",
    "# TODO: Calculate the mean of the numbers in the 'temperatures' list.\n",
    "#       Handle the case where the list is empty (return None or print a message).\n",
    "#       Print the mean using an f-string.\n",
    "# Your code here:\n"
   ]
  },
  {
   "cell_type": "code",
   "execution_count": 30,
   "id": "68f9d6a8-da1a-4cf3-80f3-3ccb1951612d",
   "metadata": {},
   "outputs": [
    {
     "name": "stdout",
     "output_type": "stream",
     "text": [
      "The mean temperature is: 21.88\n"
     ]
    },
    {
     "data": {
      "text/plain": [
       "21.87878787878788"
      ]
     },
     "execution_count": 30,
     "metadata": {},
     "output_type": "execute_result"
    }
   ],
   "source": [
    "def temp_mean(temperatures):         \n",
    "    if not temperatures:\n",
    "        print(\"The list is empty. Cannot calculate the mean.\")\n",
    "        return none \n",
    "    mean_value=sum(temperatures) / len(temperatures)\n",
    "    print(f\"The mean temperature is: {mean_value:.2f}\")\n",
    "    return mean_value\n",
    "\n",
    "temp_mean(temperatures)"
   ]
  },
  {
   "cell_type": "markdown",
   "id": "4381ede8-8020-4c8f-b94f-37ccf8dae7e4",
   "metadata": {},
   "source": [
    "# --- Median Calculation ---\n",
    "# TODO: Calculate the median of the numbers in the 'temperatures' list.\n",
    "#       Sort the 'numbers' list first.\n",
    "#       Handle both even and odd length lists.\n",
    "#       Print the median using an f-string.\n",
    "# Your code here:\n"
   ]
  },
  {
   "cell_type": "code",
   "execution_count": 31,
   "id": "cd33123e-8115-49da-9974-0eedf0eaccaa",
   "metadata": {},
   "outputs": [
    {
     "name": "stdout",
     "output_type": "stream",
     "text": [
      "The median temperature is: 21.00\n"
     ]
    },
    {
     "data": {
      "text/plain": [
       "21"
      ]
     },
     "execution_count": 31,
     "metadata": {},
     "output_type": "execute_result"
    }
   ],
   "source": [
    "def temp_madian(temperatures):\n",
    "    if not temperatures:\n",
    "        print(\"The list is empty. Cannot calculate the median.\")\n",
    "        return None\n",
    "\n",
    "    sorted_temps = sorted(temperatures)\n",
    "    n = len(sorted_temps)\n",
    "    mid = n // 2  \n",
    "    if n % 2 == 1: \n",
    "        median_value = sorted_temps[mid]\n",
    "    else:  \n",
    "        median_value = (sorted_temps[mid - 1] + sorted_temps[mid]) / 2\n",
    "\n",
    "    print(f\"The median temperature is: {median_value:.2f}\")\n",
    "    return median_value\n",
    "\n",
    "temp_madian(temperatures)"
   ]
  },
  {
   "cell_type": "markdown",
   "id": "8eb9e990-b5b2-4a47-93e3-bf17097d2541",
   "metadata": {},
   "source": [
    "# --- Mode Calculation (Simple) ---\n",
    "# TODO: Calculate the mode (most frequent number) in the 'temperatures' list.\n",
    "#       If there are multiple modes, you can return any one of them.\n",
    "#       If there is no mode (all numbers appear once), you can return None or print a message.\n",
    "#       Print the mode using an f-string.\n",
    "# Your code here:\n"
   ]
  },
  {
   "cell_type": "code",
   "execution_count": 32,
   "id": "8d326410-f22b-4723-801f-28e31c5937d6",
   "metadata": {},
   "outputs": [
    {
     "name": "stdout",
     "output_type": "stream",
     "text": [
      "The mode temperature is: 20\n"
     ]
    },
    {
     "data": {
      "text/plain": [
       "20"
      ]
     },
     "execution_count": 32,
     "metadata": {},
     "output_type": "execute_result"
    }
   ],
   "source": [
    "def Temp_mode(temperatures):\n",
    "    if not temperatures:\n",
    "        print(\"The list is empty. Cannot calculate the mode.\")\n",
    "        return None\n",
    "\n",
    "    mode_value = max(set(temperatures), key=temperatures.count)\n",
    "\n",
    "    print(f\"The mode temperature is: {mode_value}\")\n",
    "    return mode_value\n",
    "\n",
    "Temp_mode(temperatures)\n"
   ]
  },
  {
   "cell_type": "markdown",
   "id": "310b3a02-c71f-4803-84bb-2a3e1ae09675",
   "metadata": {},
   "source": [
    "# --- Variance Calculation ---\n",
    "# TODO: Calculate the variance of the numbers in the 'temperatures' list.\n",
    "#       Use the formula for sample variance (divide by n-1 for sample, n for population).\n",
    "#       For this exercise, assume it's sample variance if list has more than 1 element, else return 0 if list has 0 or 1 element.\n",
    "#       Print the variance using an f-string.\n",
    "# Your code here:\n"
   ]
  },
  {
   "cell_type": "code",
   "execution_count": 35,
   "id": "820ceaf2-e047-496d-83d9-e0028dc65d17",
   "metadata": {},
   "outputs": [
    {
     "name": "stdout",
     "output_type": "stream",
     "text": [
      "The variance of temperatures is: 101.36\n"
     ]
    },
    {
     "data": {
      "text/plain": [
       "101.3598484848485"
      ]
     },
     "execution_count": 35,
     "metadata": {},
     "output_type": "execute_result"
    }
   ],
   "source": [
    "def temp_variance(temperatures):\n",
    "    n = len(temperatures)\n",
    "    \n",
    "    if n <= 1:\n",
    "        print(\"Variance is 0 (not defined for 0 or 1 element).\")\n",
    "        return 0\n",
    "\n",
    "    mean_value = sum(temperatures) / n  # حساب المتوسط\n",
    "    variance = sum((x - mean_value) ** 2 for x in temperatures) / (n - 1)  \n",
    "\n",
    "    print(f\"The variance of temperatures is: {variance:.2f}\")\n",
    "    return variance\n",
    "\n",
    "temp_variance(temperatures)"
   ]
  },
  {
   "cell_type": "markdown",
   "id": "f5f8b4e3-5ec4-4df9-a053-b8dd4ababca3",
   "metadata": {},
   "source": [
    "# --- Standard Deviation Calculation ---\n",
    "# TODO: Calculate the standard deviation of the numbers in the 'temperatures' list.\n",
    "#       Take the square root of the variance calculated above.\n",
    "#       Print the standard deviation using an f-string.\n",
    "# Your code here:"
   ]
  },
  {
   "cell_type": "code",
   "execution_count": 38,
   "id": "41eb83a2-65c5-4a81-85f0-459d1b0c3d10",
   "metadata": {},
   "outputs": [
    {
     "name": "stdout",
     "output_type": "stream",
     "text": [
      "The standard deviation of temperatures is: 10.07\n"
     ]
    },
    {
     "data": {
      "text/plain": [
       "10.06776283415777"
      ]
     },
     "execution_count": 38,
     "metadata": {},
     "output_type": "execute_result"
    }
   ],
   "source": [
    "import math\n",
    "\n",
    "def temp_std(temperatures):\n",
    "    n = len(temperatures)\n",
    "    \n",
    "    if n <= 1:\n",
    "        print(\"Standard deviation is 0 (not defined for 0 or 1 element).\")\n",
    "        return 0\n",
    "\n",
    "    mean_value = sum(temperatures) / n  # حساب المتوسط\n",
    "    variance = sum((x - mean_value) ** 2 for x in temperatures) / (n - 1)  # حساب التباين\n",
    "    std_dev = math.sqrt(variance)  # حساب الجذر التربيعي للتباين\n",
    "\n",
    "    print(f\"The standard deviation of temperatures is: {std_dev:.2f}\")\n",
    "    return std_dev\n",
    "\n",
    "temp_std(temperatures)\n"
   ]
  },
  {
   "cell_type": "markdown",
   "id": "32308c0d-d177-422e-aeec-f824c520362e",
   "metadata": {},
   "source": [
    "# --- IQR Calculation ---\n",
    "# TODO: Calculate the Interquartile Range (IQR) of the 'temperatures' list.\n",
    "#       Use the percentile function you defined in Q1 or define a new one if needed.\n",
    "#       Calculate Q1 (25th percentile) and Q3 (75th percentile).\n",
    "#       IQR = Q3 - Q1\n",
    "#       Print the IQR using an f-string.\n",
    "# Your code here:"
   ]
  },
  {
   "cell_type": "code",
   "execution_count": 43,
   "id": "9a7e5751-563e-4560-bb44-2c2b37c5bf62",
   "metadata": {},
   "outputs": [
    {
     "name": "stdout",
     "output_type": "stream",
     "text": [
      "Outliers: [-5, 0, 55, 50]\n"
     ]
    }
   ],
   "source": [
    "temps = sorted(temperatures)\n",
    "\n",
    "q1 = temps[len(temps) // 4]\n",
    "q3 = temps[(3 * len(temps)) // 4]\n",
    "\n",
    "iqr = q3 - q1\n",
    "low, high = q1 - 1.5 * iqr, q3 + 1.5 * iqr\n",
    "\n",
    "outliers = [x for x in temperatures if x < low or x > high]\n",
    "\n",
    "print(f\"Outliers: {outliers}\")\n"
   ]
  },
  {
   "cell_type": "code",
   "execution_count": 44,
   "id": "c2755fd9-1676-4f91-876d-0ba1fc44880d",
   "metadata": {},
   "outputs": [],
   "source": [
    "# --- Range Calculation ---\n",
    "# TODO: Calculate the range (difference between max and min) of the 'temperatures' list.\n",
    "#       Print the range using an f-string.\n",
    "# Your code here:"
   ]
  },
  {
   "cell_type": "code",
   "execution_count": null,
   "id": "fd7773d1-4b8a-4e05-8ec4-b93694dc072f",
   "metadata": {},
   "outputs": [],
   "source": [
    "temp_range = max(temperatures) - min(temperatures)\n",
    "print(f\"Range: {temp_range}\")\n"
   ]
  },
  {
   "cell_type": "markdown",
   "id": "b42eac20-3ee6-481b-a0d3-59fa5751e8ad",
   "metadata": {},
   "source": [
    "# --- Skewness Calculation ---\n",
    "# TODO: (Optional) Calculate the skewness of the 'temperatures' list.\n",
    "#       You can use a simple method for skewness calculation.\n",
    "#       Print the skewness using an f-string.\n",
    "# Your code here:"
   ]
  },
  {
   "cell_type": "code",
   "execution_count": 48,
   "id": "5f5b3ff6-cc21-4a4f-8a18-a609b34435eb",
   "metadata": {},
   "outputs": [
    {
     "name": "stdout",
     "output_type": "stream",
     "text": [
      "Skewness: 0.26\n"
     ]
    }
   ],
   "source": [
    "\n",
    "mean_temp = sum(temperatures) / len(temperatures)\n",
    "\n",
    "sorted_temps = sorted(temperatures)\n",
    "n = len(sorted_temps)\n",
    "median_temp = (sorted_temps[n//2] if n % 2 == 1 else (sorted_temps[n//2 - 1] + sorted_temps[n//2]) / 2)\n",
    "\n",
    "variance = sum((x - mean_temp) ** 2 for x in temperatures) / (n - 1)\n",
    "std_dev = variance ** 0.5\n",
    "\n",
    "skewness = (3 * (mean_temp - median_temp)) / std_dev if std_dev != 0 else 0\n",
    "\n",
    "print(f\"Skewness: {skewness:.2f}\")\n"
   ]
  },
  {
   "cell_type": "markdown",
   "id": "54eb5b71-095f-4f6f-b21a-de7e6015b7b3",
   "metadata": {},
   "source": [
    "# --- Kurtosis Calculation ---\n",
    "# TODO: Calculate the skewness of the 'temperatures' list.\n",
    "#       You can use a simple method for skewness calculation.\n",
    "#       Print the skewness using an f-string.\n",
    "# Your code here:"
   ]
  },
  {
   "cell_type": "code",
   "execution_count": 49,
   "id": "ee3f9404-085a-45b8-b68a-eb2af1745b29",
   "metadata": {},
   "outputs": [
    {
     "name": "stdout",
     "output_type": "stream",
     "text": [
      "Kurtosis: 7.85\n"
     ]
    }
   ],
   "source": [
    "\n",
    "mean_temp = sum(temperatures) / len(temperatures)\n",
    "\n",
    "\n",
    "n = len(temperatures)\n",
    "variance = sum((x - mean_temp) ** 2 for x in temperatures) / (n - 1)\n",
    "std_dev = variance ** 0.5\n",
    "\n",
    "kurtosis = sum((x - mean_temp) ** 4 for x in temperatures) / ((n - 1) * (std_dev ** 4)) if std_dev != 0 else 0\n",
    "\n",
    "print(f\"Kurtosis: {kurtosis:.2f}\")\n"
   ]
  },
  {
   "cell_type": "code",
   "execution_count": 50,
   "id": "01301062-ed56-4836-b8f4-7cab154d47f7",
   "metadata": {},
   "outputs": [],
   "source": [
    "import numpy as np\n",
    "from scipy import stats # Import scipy.stats for mode and skewness if needed\n",
    "\n",
    "# Given set of numbers\n",
    "temperatures = np.array([25, 32, 45, 18, 60, 55, 48, 72, 23, 25, 20, 23, -5, 21, 18, 19, 24, 21,19, 24, 0,\n",
    "                20, 24, 55, 22, 50, 22, 20, 21, 22, 20, 25, 19,\n",
    "                22, 26, 23, 21, 23, 17, 20, 18])"
   ]
  },
  {
   "cell_type": "code",
   "execution_count": 51,
   "id": "4d559ed9-e88e-490e-9a3b-bae25cdb70ce",
   "metadata": {},
   "outputs": [
    {
     "name": "stdout",
     "output_type": "stream",
     "text": [
      "Mean: 21.88\n",
      "Median: 21.00\n",
      "Mode: 20\n",
      "Variance: 101.36\n",
      "Standard Deviation: 10.07\n",
      "Range: 60\n",
      "IQR: 3.0\n",
      "Skewness: 0.85\n",
      "Kurtosis: 4.61\n"
     ]
    }
   ],
   "source": [
    "import numpy as np\n",
    "\n",
    "# قائمة درجات الحرارة\n",
    "temperatures = np.array([23, 25, 20, 23, -5, 21, 18, 19, 24, 21, 19, 24, 0, \n",
    "                         20, 24, 55, 22, 50, 22, 20, 21, 22, 20, 25, 19, \n",
    "                         22, 26, 23, 21, 23, 17, 20, 18])\n",
    "\n",
    "# --- Mean Calculation with NumPy ---\n",
    "mean_temp = np.mean(temperatures)\n",
    "print(f\"Mean: {mean_temp:.2f}\")\n",
    "\n",
    "# --- Median Calculation with NumPy ---\n",
    "median_temp = np.median(temperatures)\n",
    "print(f\"Median: {median_temp:.2f}\")\n",
    "\n",
    "# --- Mode Calculation with NumPy (تقريبية عبر البحث عن القيمة الأكثر تكرارًا) ---\n",
    "unique_vals, counts = np.unique(temperatures, return_counts=True)\n",
    "mode_temp = unique_vals[np.argmax(counts)]\n",
    "print(f\"Mode: {mode_temp}\")\n",
    "\n",
    "# --- Variance Calculation with NumPy ---\n",
    "variance_temp = np.var(temperatures, ddof=1)  # Sample variance\n",
    "print(f\"Variance: {variance_temp:.2f}\")\n",
    "\n",
    "# --- Standard Deviation Calculation with NumPy ---\n",
    "std_dev_temp = np.std(temperatures, ddof=1)  # Sample standard deviation\n",
    "print(f\"Standard Deviation: {std_dev_temp:.2f}\")\n",
    "\n",
    "# --- Range Calculation with NumPy ---\n",
    "range_temp = np.ptp(temperatures)  # Peak-to-Peak (max - min)\n",
    "print(f\"Range: {range_temp}\")\n",
    "\n",
    "# --- IQR Calculation with NumPy ---\n",
    "q1 = np.percentile(temperatures, 25)\n",
    "q3 = np.percentile(temperatures, 75)\n",
    "iqr = q3 - q1\n",
    "print(f\"IQR: {iqr}\")\n",
    "\n",
    "# --- Skewness Calculation with NumPy ---\n",
    "n = len(temperatures)\n",
    "skewness_temp = (np.sum((temperatures - mean_temp)**3) / n) / (std_dev_temp ** 3)\n",
    "print(f\"Skewness: {skewness_temp:.2f}\")\n",
    "\n",
    "# --- Kurtosis Calculation with NumPy ---\n",
    "kurtosis_temp = (np.sum((temperatures - mean_temp)**4) / n) / (std_dev_temp ** 4) - 3  # Excess Kurtosis\n",
    "print(f\"Kurtosis: {kurtosis_temp:.2f}\")\n"
   ]
  },
  {
   "cell_type": "code",
   "execution_count": 53,
   "id": "c659977c-2012-412e-ad19-c66ee1dace9e",
   "metadata": {},
   "outputs": [
    {
     "name": "stdout",
     "output_type": "stream",
     "text": [
      "Q1: 20.0\n",
      "Q2 (Median): 21.0\n",
      "Q3: 23.0\n",
      "IQR: 3.0\n"
     ]
    }
   ],
   "source": [
    "temperatures = [23, 25, 20, 23, -5, 21, 18, 19, 24, 21, 19, 24, 0, \n",
    "                20, 24, 55, 22, 50, 22, 20, 21, 22, 20, 25, 19, \n",
    "                22, 26, 23, 21, 23, 17, 20, 18]\n",
    "\n",
    "q1 = np.percentile(temperatures, 25)\n",
    "q2 = np.percentile(temperatures, 50) \n",
    "q3 = np.percentile(temperatures, 75)\n",
    "\n",
    "iqr = q3 - q1\n",
    "\n",
    "print(f\"Q1: {q1}\")\n",
    "print(f\"Q2 (Median): {q2}\")\n",
    "print(f\"Q3: {q3}\")\n",
    "print(f\"IQR: {iqr}\")\n"
   ]
  },
  {
   "cell_type": "code",
   "execution_count": 54,
   "id": "1cd18dfd-7b49-4360-b58b-d7c935690aa4",
   "metadata": {},
   "outputs": [
    {
     "name": "stdout",
     "output_type": "stream",
     "text": [
      "Lower Bound: 15.5\n",
      "Upper Bound: 27.5\n"
     ]
    }
   ],
   "source": [
    "\n",
    "temperatures = [23, 25, 20, 23, -5, 21, 18, 19, 24, 21, 19, 24, 0, \n",
    "                20, 24, 55, 22, 50, 22, 20, 21, 22, 20, 25, 19, \n",
    "                22, 26, 23, 21, 23, 17, 20, 18]\n",
    "\n",
    "q1 = np.percentile(temperatures, 25)\n",
    "q3 = np.percentile(temperatures, 75)\n",
    "\n",
    "iqr = q3 - q1\n",
    "\n",
    "lower_bound = q1 - 1.5 * iqr\n",
    "upper_bound = q3 + 1.5 * iqr\n",
    "\n",
    "print(f\"Lower Bound: {lower_bound}\")\n",
    "print(f\"Upper Bound: {upper_bound}\")"
   ]
  },
  {
   "cell_type": "code",
   "execution_count": 56,
   "id": "06bd3a63-bd2f-4efe-8744-4e6b160545f4",
   "metadata": {},
   "outputs": [
    {
     "data": {
      "text/plain": [
       "[23,\n",
       " 25,\n",
       " 20,\n",
       " 23,\n",
       " 21,\n",
       " 18,\n",
       " 19,\n",
       " 24,\n",
       " 21,\n",
       " 19,\n",
       " 24,\n",
       " 20,\n",
       " 24,\n",
       " 22,\n",
       " 22,\n",
       " 20,\n",
       " 21,\n",
       " 22,\n",
       " 20,\n",
       " 25,\n",
       " 19,\n",
       " 22,\n",
       " 26,\n",
       " 23,\n",
       " 21,\n",
       " 23,\n",
       " 17,\n",
       " 20,\n",
       " 18]"
      ]
     },
     "execution_count": 56,
     "metadata": {},
     "output_type": "execute_result"
    }
   ],
   "source": [
    "# TODO: Create a list comprehension that only includes values between the bounds\n",
    "filtered_temperatures = [temp for temp in temperatures if lower_bound <= temp <= upper_bound]\n",
    "filtered_temperatures"
   ]
  },
  {
   "cell_type": "code",
   "execution_count": 57,
   "id": "ac2dd6e8-2bb4-4b56-800d-3568ea05fee2",
   "metadata": {},
   "outputs": [
    {
     "name": "stdout",
     "output_type": "stream",
     "text": [
      "Original Temperatures: [23, 25, 20, 23, -5, 21, 18, 19, 24, 21, 19, 24, 0, 20, 24, 55, 22, 50, 22, 20, 21, 22, 20, 25, 19, 22, 26, 23, 21, 23, 17, 20, 18]\n",
      "Filtered Temperatures: [23, 25, 20, 23, 21, 18, 19, 24, 21, 19, 24, 20, 24, 22, 22, 20, 21, 22, 20, 25, 19, 22, 26, 23, 21, 23, 17, 20, 18]\n"
     ]
    }
   ],
   "source": [
    "print(\"Original Temperatures:\", temperatures)\n",
    "print(\"Filtered Temperatures:\", filtered_temperatures)"
   ]
  },
  {
   "cell_type": "code",
   "execution_count": 58,
   "id": "8bbd06d7-63b4-44fd-85b6-06dbf57ff28b",
   "metadata": {},
   "outputs": [],
   "source": [
    "# Simulated data \n",
    "temperatures = [23, 25, 23, -5, 18, 19, 24, 21, 19, 24, 0, \n",
    "                24, 55, 50, 20, 25, 22, 26, 23, 17, 18]\n",
    "\n",
    "humidity = [60, 65, 72, 68, 75, 80, 82, 78, 62, 68, 71, \n",
    "            69, 77, 81, 79, 64, 69, 67,  74, 68, 75, 100] "
   ]
  },
  {
   "cell_type": "code",
   "execution_count": 60,
   "id": "d43761e9-a955-49fb-9369-58c2a82cf059",
   "metadata": {},
   "outputs": [],
   "source": [
    "def remove_outliers(data):\n",
    "    q1 = np.percentile(data, 25) \n",
    "    q3 = np.percentile(data, 75)  \n",
    "    iqr = q3 - q1  \n",
    "    lower_bound = q1 - 1.5 * iqr  \n",
    "    upper_bound = q3 + 1.5 * iqr  \n",
    "    \n",
    "    return [x for x in data if lower_bound <= x <= upper_bound]"
   ]
  },
  {
   "cell_type": "code",
   "execution_count": 61,
   "id": "0090bfad-c2d2-4124-b77a-111baa3f08c3",
   "metadata": {},
   "outputs": [],
   "source": [
    "filtered_temperatures = remove_outliers(temperatures)\n",
    "filtered_humidity = remove_outliers(humidity)"
   ]
  },
  {
   "cell_type": "code",
   "execution_count": 62,
   "id": "43e86def-1bbf-4fdb-bf68-134b0dda3ef9",
   "metadata": {},
   "outputs": [
    {
     "name": "stdout",
     "output_type": "stream",
     "text": [
      "Original Temperatures: [-5, 0, 17, 18, 18, 19, 19, 20, 21, 22, 23, 23, 23, 24, 24, 24, 25, 25, 26, 50, 55]\n",
      "Filtered Temperatures: [23, 25, 23, 18, 19, 24, 21, 19, 24, 24, 20, 25, 22, 26, 23, 17, 18]\n",
      "==============================================================================================================\n",
      "Original Humidity: [60, 62, 64, 65, 67, 68, 68, 68, 69, 69, 71, 72, 74, 75, 75, 77, 78, 79, 80, 81, 82, 100]\n",
      "Filtered Humidity: [60, 65, 72, 68, 75, 80, 82, 78, 62, 68, 71, 69, 77, 81, 79, 64, 69, 67, 74, 68, 75]\n"
     ]
    }
   ],
   "source": [
    "print(\"Original Temperatures:\", sorted(temperatures))\n",
    "print(\"Filtered Temperatures:\", filtered_temperatures)\n",
    "print('='*110)\n",
    "print(\"Original Humidity:\", sorted(humidity))\n",
    "print(\"Filtered Humidity:\", filtered_humidity)"
   ]
  },
  {
   "cell_type": "code",
   "execution_count": null,
   "id": "c5483b57-a31a-453a-8b4a-6f4adb07ee18",
   "metadata": {},
   "outputs": [],
   "source": []
  }
 ],
 "metadata": {
  "kernelspec": {
   "display_name": "Python 3 (ipykernel)",
   "language": "python",
   "name": "python3"
  },
  "language_info": {
   "codemirror_mode": {
    "name": "ipython",
    "version": 3
   },
   "file_extension": ".py",
   "mimetype": "text/x-python",
   "name": "python",
   "nbconvert_exporter": "python",
   "pygments_lexer": "ipython3",
   "version": "3.12.7"
  }
 },
 "nbformat": 4,
 "nbformat_minor": 5
}
